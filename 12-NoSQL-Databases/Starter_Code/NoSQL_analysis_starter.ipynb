{
 "cells": [
  {
   "cell_type": "markdown",
   "id": "9a57c4c6",
   "metadata": {},
   "source": [
    "# Eat Safe, Love"
   ]
  },
  {
   "cell_type": "markdown",
   "id": "064ef857",
   "metadata": {},
   "source": [
    "## Notebook Set Up"
   ]
  },
  {
   "cell_type": "code",
   "execution_count": null,
   "id": "3ecdd008",
   "metadata": {},
   "outputs": [],
   "source": [
    "from pymongo import MongoClient\n",
    "import pandas as pd\n",
    "from pprint import pprint"
   ]
  },
  {
   "cell_type": "code",
   "execution_count": null,
   "id": "59390c4a",
   "metadata": {},
   "outputs": [],
   "source": [
    "# Create an instance of MongoClient\n",
    "mongo = MongoClient(port=27017)"
   ]
  },
  {
   "cell_type": "code",
   "execution_count": null,
   "id": "71e373c1",
   "metadata": {},
   "outputs": [],
   "source": [
    "# assign the uk_food database to a variable name\n",
    "db = mongo['uk_food']"
   ]
  },
  {
   "cell_type": "code",
   "execution_count": null,
   "id": "18ab463c",
   "metadata": {},
   "outputs": [],
   "source": [
    "# review the collections in our database\n",
    "print(db.list_collection_names())"
   ]
  },
  {
   "cell_type": "code",
   "execution_count": null,
   "id": "11c9f11b",
   "metadata": {},
   "outputs": [],
   "source": [
    "# assign the collection to a variable\n",
    "establishments = db['establishments']"
   ]
  },
  {
   "cell_type": "markdown",
   "id": "d5671434",
   "metadata": {},
   "source": [
    "## Part 3: Exploratory Analysis\n",
    "Unless otherwise stated, for each question: \n",
    "* Use `count_documents` to display the number of documents contained in the result.\n",
    "* Display the first document in the results using `pprint`.\n",
    "* Convert the result to a Pandas DataFrame, print the number of rows in the DataFrame, and display the first 10 rows."
   ]
  },
  {
   "cell_type": "markdown",
   "id": "314bd884",
   "metadata": {},
   "source": [
    "### 1. Which establishments have a hygiene score equal to 20?"
   ]
  },
  {
   "cell_type": "code",
   "execution_count": null,
   "id": "c2da7648",
   "metadata": {},
   "outputs": [],
   "source": [
    "# Find the establishments with a hygiene score of 20\n",
    "query = {}\n",
    "query[\"scores.Hygiene\"] = 20\n",
    "\n",
    "# Get the count of documents that match the query\n",
    "count = 0\n",
    "for doc in establishments.find(query):\n",
    "    count += 1\n",
    "print(count)\n",
    "\n",
    "# Display the first document in the results using pprint\n",
    "for doc in establishments.find(query):\n",
    "    pprint(doc)\n",
    "    break"
   ]
  },
  {
   "cell_type": "code",
   "execution_count": null,
   "id": "a6e5cece",
   "metadata": {},
   "outputs": [],
   "source": [
    "# Convert the result to a Pandas DataFrame\n",
    "results = []\n",
    "for doc in establishments.find(query):\n",
    "    results.append(doc)\n",
    "df = pd.DataFrame(results)\n",
    "\n",
    "# Display the number of rows in the DataFrame\n",
    "num_rows = len(df)\n",
    "print((num_rows, len(df.columns)))\n",
    "\n",
    "# Display the first 10 rows of the DataFrame\n",
    "print(df.iloc[:10])"
   ]
  },
  {
   "cell_type": "markdown",
   "id": "0ef4395a",
   "metadata": {},
   "source": [
    "### 2. Which establishments in London have a `RatingValue` greater than or equal to 4?"
   ]
  },
  {
   "cell_type": "code",
   "execution_count": null,
   "id": "93c63829",
   "metadata": {},
   "outputs": [],
   "source": [
    "# Find the establishments with London as the Local Authority and has a RatingValue greater than or equal to 4.\n",
    "query = {}\n",
    "query[\"RatingValue\"] = {\"$gte\": 4}\n",
    "query[\"LocalAuthorityName\"] = {\"$regex\": \"London\"}\n",
    "\n",
    "# Manually count the number of documents that match the query\n",
    "count = 0\n",
    "for doc in establishments.find(query):\n",
    "    count += 1\n",
    "print(count)\n",
    "\n",
    "# Display the first document in the results using a loop and pprint\n",
    "for doc in establishments.find(query):\n",
    "    pprint(doc)\n",
    "    break"
   ]
  },
  {
   "cell_type": "code",
   "execution_count": null,
   "id": "07e24ccb",
   "metadata": {},
   "outputs": [],
   "source": [
    "# Convert the result to a Pandas DataFrame\n",
    "results = []\n",
    "for document in establishments.find(query):\n",
    "    results.append(document)\n",
    "df = pd.DataFrame(results)\n",
    "\n",
    "# Manually calculate the number of rows and columns in the DataFrame\n",
    "num_rows = len(df)\n",
    "num_columns = len(df.columns)\n",
    "print((num_rows, num_columns))\n",
    "\n",
    "# Display the first 10 rows of the DataFrame\n",
    "first_ten_rows = df.iloc[0:10]\n",
    "print(first_ten_rows)"
   ]
  },
  {
   "attachments": {},
   "cell_type": "markdown",
   "id": "4e570caf",
   "metadata": {},
   "source": [
    "### 3. What are the top 5 establishments with a `RatingValue` rating value of 5, sorted by lowest hygiene score, nearest to the new restaurant added, \"Penang Flavours\"?"
   ]
  },
  {
   "cell_type": "code",
   "execution_count": null,
   "id": "7f599f3d",
   "metadata": {},
   "outputs": [],
   "source": [
    "# Search within 0.01 degree on either side of the latitude and longitude.\n",
    "# Rating value must equal 5\n",
    "# Sort by hygiene score\n",
    "\n",
    "degree_search = 0.01\n",
    "latitude = 51.49014200\n",
    "longitude = 0.08384000\n",
    "\n",
    "# Build the query step by step\n",
    "query = {}\n",
    "query[\"RatingValue\"] = 5\n",
    "query[\"geocode.latitude\"] = {\"$gte\": latitude - degree_search, \"$lt\": latitude + degree_search}\n",
    "query[\"geocode.longitude\"] = {\"$gte\": longitude - degree_search, \"$lt\": longitude + degree_search}\n",
    "\n",
    "# Define sorting and limit\n",
    "sort = [(\"scores.Hygiene\", 1)]\n",
    "limit = 5\n",
    "\n",
    "# Execute the query and manually build the results list\n",
    "results = []\n",
    "for doc in establishments.find(query).sort(sort).limit(limit):\n",
    "    results.append(doc)\n",
    "\n",
    "# Print the results\n",
    "for result in results:\n",
    "    pprint(result)"
   ]
  },
  {
   "cell_type": "code",
   "execution_count": null,
   "id": "a6ad16f7",
   "metadata": {},
   "outputs": [],
   "source": [
    "# Convert result to Pandas DataFrame\n",
    "df = pd.DataFrame(results)\n",
    "df.head()"
   ]
  },
  {
   "cell_type": "markdown",
   "id": "67281254",
   "metadata": {},
   "source": [
    "### 4. How many establishments in each Local Authority area have a hygiene score of 0?"
   ]
  },
  {
   "cell_type": "code",
   "execution_count": null,
   "id": "4eeb227e",
   "metadata": {},
   "outputs": [],
   "source": [
    "# Create a pipeline that:\n",
    "# 1. Matches establishments with a hygiene score of 0\n",
    "# 2. Groups the matches by Local Authority\n",
    "# 3. Sorts the matches from highest to lowest\n",
    "\n",
    "# Build the match query step by step\n",
    "match_query = {}\n",
    "match_query['$match'] = {}\n",
    "match_query['$match'][\"scores.Hygiene\"] = 0\n",
    "\n",
    "# Build the group query step by step\n",
    "group_query = {}\n",
    "group_query['$group'] = {}\n",
    "group_query['$group']['_id'] = {\"classification\": \"$LocalAuthorityName\", \"culture\": \"$culture\"}\n",
    "group_query['$group']['count'] = {}\n",
    "group_query['$group']['count']['$sum'] = 1\n",
    "\n",
    "# Build the sort query step by step\n",
    "sort_values = {}\n",
    "sort_values['$sort'] = {}\n",
    "sort_values['$sort']['count'] = -1\n",
    "\n",
    "# Assemble the pipeline manually\n",
    "pipeline = []\n",
    "pipeline.append(match_query)\n",
    "pipeline.append(group_query)\n",
    "pipeline.append(sort_values)\n",
    "\n",
    "# Execute the pipeline and manually convert the results to a list\n",
    "results_cursor = establishments.aggregate(pipeline)\n",
    "results = []\n",
    "for doc in results_cursor:\n",
    "    results.append(doc)\n",
    "\n",
    "# Print the number of documents in the result\n",
    "num_results = len(results)\n",
    "print(num_results)\n",
    "\n",
    "# Print the first 10 results\n",
    "for i in range(10):\n",
    "    pprint(results[i])"
   ]
  },
  {
   "cell_type": "code",
   "execution_count": null,
   "id": "d8aab364",
   "metadata": {},
   "outputs": [],
   "source": [
    "# Convert the result to a Pandas DataFrame\n",
    "df = pd.json_normalize(results)\n",
    "\n",
    "# Display the number of rows in the DataFrame\n",
    "print(df.shape)\n",
    "\n",
    "# Display the first 10 rows of the DataFrame\n",
    "df.head(10)"
   ]
  }
 ],
 "metadata": {
  "kernelspec": {
   "display_name": "Python 3 (ipykernel)",
   "language": "python",
   "name": "python3"
  },
  "language_info": {
   "codemirror_mode": {
    "name": "ipython",
    "version": 3
   },
   "file_extension": ".py",
   "mimetype": "text/x-python",
   "name": "python",
   "nbconvert_exporter": "python",
   "pygments_lexer": "ipython3",
   "version": "3.11.7"
  }
 },
 "nbformat": 4,
 "nbformat_minor": 5
}

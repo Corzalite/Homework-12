{
 "cells": [
  {
   "cell_type": "markdown",
   "id": "9a57c4c6",
   "metadata": {},
   "source": [
    "# Eat Safe, Love"
   ]
  },
  {
   "cell_type": "markdown",
   "id": "064ef857",
   "metadata": {},
   "source": [
    "## Part 1: Database and Jupyter Notebook Set Up"
   ]
  },
  {
   "cell_type": "markdown",
   "id": "664e3c1f",
   "metadata": {},
   "source": [
    "Import the data provided in the `establishments.json` file from your Terminal. Name the database `uk_food` and the collection `establishments`.\n",
    "\n",
    "Within this markdown cell, copy the line of text you used to import the data from your Terminal. This way, future analysts will be able to repeat your process.\n",
    "\n",
    "e.g.: Import the dataset with `YOUR IMPORT TEXT HERE`"
   ]
  },
  {
   "cell_type": "code",
   "execution_count": null,
   "id": "3ecdd008",
   "metadata": {},
   "outputs": [],
   "source": [
    "# Import dependencies\n",
    "from pymongo import MongoClient\n",
    "from pprint import pprint"
   ]
  },
  {
   "cell_type": "code",
   "execution_count": null,
   "id": "59390c4a",
   "metadata": {},
   "outputs": [],
   "source": [
    "# Create an instance of MongoClient\n",
    "mongo = MongoClient(port=27017)"
   ]
  },
  {
   "cell_type": "code",
   "execution_count": null,
   "id": "7f9ececa",
   "metadata": {},
   "outputs": [],
   "source": [
    "# confirm that our new database was created\n",
    "print(mongo.list_database_names())"
   ]
  },
  {
   "cell_type": "code",
   "execution_count": null,
   "id": "71e373c1",
   "metadata": {},
   "outputs": [],
   "source": [
    "# assign the uk_food database to a variable name\n",
    "db = mongo['uk_food']"
   ]
  },
  {
   "cell_type": "code",
   "execution_count": null,
   "id": "ef1b89ed",
   "metadata": {},
   "outputs": [],
   "source": [
    "# review the collections in our new database\n",
    "print(db.list_collection_names())"
   ]
  },
  {
   "cell_type": "code",
   "execution_count": null,
   "id": "18ab463c",
   "metadata": {},
   "outputs": [],
   "source": [
    "# review a document in the establishments collection\n",
    "pprint(db.establishments.find_one())"
   ]
  },
  {
   "cell_type": "code",
   "execution_count": null,
   "id": "11c9f11b",
   "metadata": {},
   "outputs": [],
   "source": [
    "# assign the collection to a variable\n",
    "establishments = db['establishments']"
   ]
  },
  {
   "cell_type": "markdown",
   "id": "d5671434",
   "metadata": {},
   "source": [
    "## Part 2: Update the Database"
   ]
  },
  {
   "cell_type": "markdown",
   "id": "314bd884",
   "metadata": {},
   "source": [
    "1. An exciting new halal restaurant just opened in Greenwich, but hasn't been rated yet. The magazine has asked you to include it in your analysis. Add the following restaurant \"Penang Flavours\" to the database."
   ]
  },
  {
   "cell_type": "code",
   "execution_count": null,
   "id": "c2da7648",
   "metadata": {},
   "outputs": [],
   "source": [
    "# Create a dictionary for the new restaurant data\n",
    "new_restaurant = {}\n",
    "new_restaurant[\"BusinessName\"] = \"Penang Flavours\"\n",
    "new_restaurant[\"BusinessType\"] = \"Restaurant/Cafe/Canteen\"\n",
    "new_restaurant[\"BusinessTypeID\"] = \"\"\n",
    "new_restaurant[\"AddressLine1\"] = \"Penang Flavours\"\n",
    "new_restaurant[\"AddressLine2\"] = \"146A Plumstead Rd\"\n",
    "new_restaurant[\"AddressLine3\"] = \"London\"\n",
    "new_restaurant[\"AddressLine4\"] = \"\"\n",
    "new_restaurant[\"PostCode\"] = \"SE18 7DY\"\n",
    "new_restaurant[\"Phone\"] = \"\"\n",
    "new_restaurant[\"LocalAuthorityCode\"] = \"511\"\n",
    "new_restaurant[\"LocalAuthorityName\"] = \"Greenwich\"\n",
    "new_restaurant[\"LocalAuthorityWebSite\"] = \"http://www.royalgreenwich.gov.uk\"\n",
    "new_restaurant[\"LocalAuthorityEmailAddress\"] = \"health@royalgreenwich.gov.uk\"\n",
    "\n",
    "# Nested dictionary for scores\n",
    "new_restaurant[\"scores\"] = {}\n",
    "new_restaurant[\"scores\"][\"Hygiene\"] = \"\"\n",
    "new_restaurant[\"scores\"][\"Structural\"] = \"\"\n",
    "new_restaurant[\"scores\"][\"ConfidenceInManagement\"] = \"\"\n",
    "\n",
    "# More fields for the restaurant\n",
    "new_restaurant[\"SchemeType\"] = \"FHRS\"\n",
    "\n",
    "# Nested dictionary for geocode\n",
    "new_restaurant[\"geocode\"] = {}\n",
    "new_restaurant[\"geocode\"][\"longitude\"] = \"0.08384000\"\n",
    "new_restaurant[\"geocode\"][\"latitude\"] = \"51.49014200\"\n",
    "\n",
    "new_restaurant[\"RightToReply\"] = \"\"\n",
    "new_restaurant[\"Distance\"] = 4623.9723280747176\n",
    "new_restaurant[\"NewRatingPending\"] = True"
   ]
  },
  {
   "cell_type": "code",
   "execution_count": null,
   "id": "a6e5cece",
   "metadata": {},
   "outputs": [],
   "source": [
    "# Insert the new restaurant into the collection\n",
    "establishments.insert_one(new_restaurant)"
   ]
  },
  {
   "cell_type": "code",
   "execution_count": null,
   "id": "63bb10f9",
   "metadata": {},
   "outputs": [],
   "source": [
    "# Check that the new restaurant was inserted\n",
    "pprint(establishments.find_one({\"BusinessName\":\"Penang Flavours\"}))"
   ]
  },
  {
   "cell_type": "markdown",
   "id": "0ef4395a",
   "metadata": {},
   "source": [
    "2. Find the BusinessTypeID for \"Restaurant/Cafe/Canteen\" and return only the `BusinessTypeID` and `BusinessType` fields."
   ]
  },
  {
   "cell_type": "code",
   "execution_count": null,
   "id": "93c63829",
   "metadata": {},
   "outputs": [],
   "source": [
    "# Find the BusinessTypeID for \"Restaurant/Cafe/Canteen\" and return only the BusinessTypeID and BusinessType fields\n",
    "# Build the query step by step\n",
    "query = {}\n",
    "query['BusinessType'] = 'Restaurant/Cafe/Canteen'\n",
    "\n",
    "# Define the fields to return, one by one\n",
    "fields = {}\n",
    "fields['BusinessTypeID'] = 1\n",
    "fields['BusinessType'] = 1\n",
    "\n",
    "# Execute the query and get the first matching document\n",
    "result = establishments.find_one(query, projection=fields)\n",
    "\n",
    "# Print the result using pprint\n",
    "pprint(result)"
   ]
  },
  {
   "cell_type": "markdown",
   "id": "4e570caf",
   "metadata": {},
   "source": [
    "3. Update the new restaurant with the `BusinessTypeID` you found."
   ]
  },
  {
   "cell_type": "code",
   "execution_count": null,
   "id": "7f599f3d",
   "metadata": {},
   "outputs": [],
   "source": [
    "# Update the new restaurant with the correct BusinessTypeID\n",
    "filter_query = {}\n",
    "filter_query[\"BusinessName\"] = \"Penang Flavours\"\n",
    "\n",
    "# Build the update data step by step\n",
    "update_data = {}\n",
    "update_data[\"$set\"] = {}\n",
    "update_data[\"$set\"][\"BusinessTypeID\"] = 1\n",
    "\n",
    "# Execute the update operation\n",
    "establishments.update_one(filter_query, update_data)\n"
   ]
  },
  {
   "cell_type": "code",
   "execution_count": null,
   "id": "a6ad16f7",
   "metadata": {},
   "outputs": [],
   "source": [
    "# Confirm that the new restaurant was updated\n",
    "pprint(establishments.find_one({\"BusinessName\":\"Penang Flavours\"}))"
   ]
  },
  {
   "cell_type": "markdown",
   "id": "67281254",
   "metadata": {},
   "source": [
    "4. The magazine is not interested in any establishments in Dover, so check how many documents contain the Dover Local Authority. Then, remove any establishments within the Dover Local Authority from the database, and check the number of documents to ensure they were deleted."
   ]
  },
  {
   "cell_type": "code",
   "execution_count": null,
   "id": "768474a6",
   "metadata": {},
   "outputs": [],
   "source": [
    "# Find how many documents have LocalAuthorityName as \"Dover\"\n",
    "query = {}\n",
    "query['LocalAuthorityName'] = 'Dover'\n",
    "\n",
    "# Initialize a counter variable\n",
    "count = 0\n",
    "\n",
    "# Iterate through the documents matching the query and count them manually\n",
    "cursor = establishments.find(query)\n",
    "for document in cursor:\n",
    "    count += 1\n",
    "\n",
    "# Store the final count in a variable and print it\n",
    "Dover_documents = count\n",
    "Dover_documents"
   ]
  },
  {
   "cell_type": "code",
   "execution_count": null,
   "id": "a11d5f1b",
   "metadata": {},
   "outputs": [],
   "source": [
    "# Delete all documents where LocalAuthorityName is \"Dover\"\n",
    "delete_query = {}\n",
    "delete_query['LocalAuthorityName'] = 'Dover'\n",
    "\n",
    "# Execute the delete operation using the query\n",
    "result = establishments.delete_many(delete_query)\n",
    "\n",
    "# Print the number of documents deleted (optional, but common for a novice to check)\n",
    "deleted_count = result.deleted_count\n",
    "print(\"Number of documents deleted:\", deleted_count)"
   ]
  },
  {
   "cell_type": "code",
   "execution_count": null,
   "id": "2a51aba0",
   "metadata": {},
   "outputs": [],
   "source": [
    "# Check if any remaining documents include Dover\n",
    "query = {}\n",
    "query['LocalAuthorityName'] = 'Dover'\n",
    "\n",
    "# Initialize a counter variable\n",
    "count = 0\n",
    "\n",
    "# Manually count the documents that match the query\n",
    "cursor = establishments.find(query)\n",
    "for doc in cursor:\n",
    "    count += 1\n",
    "\n",
    "# Store the count in a variable and print it\n",
    "Dover_documents = count\n",
    "Dover_documents"
   ]
  },
  {
   "cell_type": "code",
   "execution_count": null,
   "id": "8c356f7b",
   "metadata": {},
   "outputs": [],
   "source": [
    "# Check that other documents remain with 'find_one'\n",
    "pprint(establishments.find_one())"
   ]
  },
  {
   "attachments": {},
   "cell_type": "markdown",
   "id": "e9f1662d",
   "metadata": {},
   "source": [
    "5. Some of the number values are stored as strings, when they should be stored as numbers."
   ]
  },
  {
   "attachments": {},
   "cell_type": "markdown",
   "id": "c46df2df",
   "metadata": {},
   "source": [
    "Use `update_many` to convert `latitude` and `longitude` to decimal numbers."
   ]
  },
  {
   "cell_type": "code",
   "execution_count": null,
   "id": "fd4112ce",
   "metadata": {},
   "outputs": [],
   "source": [
    "# Change the data type from String to Decimal for longitude and latitude\n",
    "update_query = {}\n",
    "update_query['$set'] = {}\n",
    "update_query['$set'][\"geocode.longitude\"] = {}\n",
    "update_query['$set'][\"geocode.longitude\"]['$toDecimal'] = \"$geocode.longitude\"\n",
    "update_query['$set'][\"geocode.latitude\"] = {}\n",
    "update_query['$set'][\"geocode.latitude\"]['$toDecimal'] = \"$geocode.latitude\"\n",
    "\n",
    "# Apply the update to all documents\n",
    "result = establishments.update_many({}, [update_query])\n",
    "\n",
    "# Print the number of documents modified (optional, for verification)\n",
    "modified_count = result.modified_count\n",
    "print(\"Number of documents modified:\", modified_count"
   ]
  },
  {
   "attachments": {},
   "cell_type": "markdown",
   "id": "142e319c",
   "metadata": {},
   "source": [
    "Use `update_many` to convert `RatingValue` to integer numbers."
   ]
  },
  {
   "cell_type": "code",
   "execution_count": null,
   "id": "04430a5b",
   "metadata": {},
   "outputs": [],
   "source": [
    "# Set non 1-5 Rating Values to Null\n",
    "non_ratings = [\"AwaitingInspection\", \"Awaiting Inspection\", \"AwaitingPublication\", \"Pass\", \"Exempt\"]\n",
    "establishments.update_many({\"RatingValue\": {\"$in\": non_ratings}}, [ {'$set':{ \"RatingValue\" : None}} ])"
   ]
  },
  {
   "cell_type": "code",
   "execution_count": null,
   "id": "92524ccc",
   "metadata": {},
   "outputs": [],
   "source": [
    "# Change the data type from String to Integer for RatingValue\n",
    "update_query = {}\n",
    "update_query['$set'] = {}\n",
    "update_query['$set'][\"RatingValue\"] = {}\n",
    "update_query['$set'][\"RatingValue\"]['$toInt'] = \"$RatingValue\"\n",
    "\n",
    "# Apply the update to all documents\n",
    "result = establishments.update_many({}, [update_query])\n",
    "\n",
    "# Print the number of documents modified (optional, for verification)\n",
    "modified_count = result.modified_count\n",
    "print(\"Number of documents modified:\", modified_count)"
   ]
  },
  {
   "cell_type": "code",
   "execution_count": null,
   "id": "0deacaf9",
   "metadata": {},
   "outputs": [],
   "source": [
    "# Check that the coordinates and rating value are now numbers\n",
    "pprint(establishments.find_one())"
   ]
  }
 ],
 "metadata": {
  "kernelspec": {
   "display_name": "Python 3 (ipykernel)",
   "language": "python",
   "name": "python3"
  },
  "language_info": {
   "codemirror_mode": {
    "name": "ipython",
    "version": 3
   },
   "file_extension": ".py",
   "mimetype": "text/x-python",
   "name": "python",
   "nbconvert_exporter": "python",
   "pygments_lexer": "ipython3",
   "version": "3.11.7"
  }
 },
 "nbformat": 4,
 "nbformat_minor": 5
}
